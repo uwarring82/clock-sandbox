{
 "cells": [
  {
   "cell_type": "markdown",
   "id": "f21f8448",
   "metadata": {},
   "source": [
    "# ClockSandbox — Phase I Smoke Test\n",
    "\n",
    "- Ideal vs Noisy (white fractional-frequency) over 1 day.\n",
    "- Deterministic seed.\n",
    "- Plots of readings and difference, plus basic metrics."
   ]
  },
  {
   "cell_type": "code",
   "execution_count": null,
   "id": "2e046e8a",
   "metadata": {},
   "outputs": [],
   "source": [
    "from src.clocks.ideal import IdealClock\n",
    "from src.clocks.noisy import NoisyOscillatorClock\n",
    "from src.analysis import run_clocks, compare_clocks, plot_comparison\n",
    "ideal = IdealClock()\n",
    "noisy = NoisyOscillatorClock(sigma_y=1e-11, seed=42)\n",
    "ts = run_clocks([ideal, noisy], duration=86_400.0, dt=1.0)\n",
    "metrics = compare_clocks(ts[\"time\"], ts[\"clock_0\"], ts[\"clock_1\"])\n",
    "metrics"
   ]
  },
  {
   "cell_type": "code",
   "execution_count": null,
   "id": "a724e80e",
   "metadata": {},
   "outputs": [],
   "source": [
    "# Plot (disable if running headless)\n",
    "plot_comparison(ts, labels=[\"Ideal\", \"Noisy (white freq)\"])\n"
   ]
  },
  {
   "cell_type": "markdown",
   "id": "d2e58000",
   "metadata": {},
   "source": [
    "### Overlapping Allan Deviation with Uncertainties (allantools)\n",
    "\n",
    "This cell uses **allantools** to compute the **overlapping Allan deviation** \\(\\sigma_y(\tau)\\)  \n",
    "including **1-σ uncertainties**, which are suitable for practical stability analysis.\n",
    "\n",
    "- Function: `adev_overlapping_allantools(y, dt, taus=None)`\n",
    "- Plot helper: `plot_adev_with_uncertainties(taus, adev, adev_err)`\n",
    "- Data type: fractional frequency (`y_k`) sampled every `dt` seconds\n"
   ]
  },
  {
   "cell_type": "code",
   "execution_count": null,
   "id": "27f01511",
   "metadata": {},
   "outputs": [],
   "source": [
    "from src.analysis import adev_overlapping_allantools, plot_adev_with_uncertainties\n",
    "# Reuse 'y' and 'dt' if present; otherwise construct them quickly\n",
    "try:\n",
    "    y\n",
    "    dt\n",
    "except NameError:\n",
    "    from src.clocks.ideal import IdealClock\n",
    "    from src.clocks.noisy import NoisyOscillatorClock\n",
    "    from src.analysis import run_clocks, fractional_frequency_from_time\n",
    "    ideal = IdealClock(); noisy = NoisyOscillatorClock(sigma_y=1e-11, seed=7)\n",
    "    ts = run_clocks([ideal, noisy], duration=12*3600.0, dt=1.0)\n",
    "    t = ts[\"time\"]; x_noisy = ts[\"clock_1\"]; dt = float(t[1]-t[0])\n",
    "    y = fractional_frequency_from_time(t, x_noisy, dt=dt)\n",
    "\n",
    "taus_s, adev, adev_err = adev_overlapping_allantools(y, dt=dt, taus=[1,2,5,10,20,50,100,200,500,1000])\n",
    "list(zip(taus_s.tolist(), adev.tolist(), adev_err.tolist()))[:5]\n"
   ]
  },
  {
   "cell_type": "code",
   "execution_count": null,
   "id": "ec5ecb5d",
   "metadata": {},
   "outputs": [],
   "source": [
    "plot_adev_with_uncertainties(taus_s, adev, adev_err)\n"
   ]
  }
 ],
 "metadata": {},
 "nbformat": 4,
 "nbformat_minor": 5
}
