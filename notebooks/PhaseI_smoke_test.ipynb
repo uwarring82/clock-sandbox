{
 "cells": [
  {
   "cell_type": "markdown",
   "id": "f21f8448",
   "metadata": {},
   "source": [
    "# ClockSandbox — Phase I Smoke Test\n",
    "\n",
    "- Ideal vs Noisy (white fractional-frequency) over 1 day.\n",
    "- Deterministic seed.\n",
    "- Plots of readings and difference, plus basic metrics."
   ]
  },
  {
   "cell_type": "code",
   "execution_count": null,
   "id": "2e046e8a",
   "metadata": {},
   "outputs": [],
   "source": [
    "from src.clocks.ideal import IdealClock\n",
    "from src.clocks.noisy import NoisyOscillatorClock\n",
    "from src.analysis import run_clocks, compare_clocks, plot_comparison\n",
    "ideal = IdealClock()\n",
    "noisy = NoisyOscillatorClock(sigma_y=1e-11, seed=42)\n",
    "ts = run_clocks([ideal, noisy], duration=86_400.0, dt=1.0)\n",
    "metrics = compare_clocks(ts[\"time\"], ts[\"clock_0\"], ts[\"clock_1\"])\n",
    "metrics"
   ]
  },
  {
   "cell_type": "code",
   "execution_count": null,
   "id": "a724e80e",
   "metadata": {},
   "outputs": [],
   "source": [
    "# Plot (disable if running headless)\n",
    "plot_comparison(ts, labels=[\"Ideal\", \"Noisy (white freq)\"])\n"
   ]
  }
 ],
 "metadata": {},
 "nbformat": 4,
 "nbformat_minor": 5
}
